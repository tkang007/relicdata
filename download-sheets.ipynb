{
 "cells": [
  {
   "cell_type": "markdown",
   "id": "994bbf85-90da-4af5-b979-3582d2e5ebc2",
   "metadata": {},
   "source": [
    "## Downloading from google sheet to excel file"
   ]
  },
  {
   "cell_type": "markdown",
   "id": "e05ee0b3-ae4e-4f68-85d0-98354ed290c1",
   "metadata": {},
   "source": [
    "Automating the Process with Python (Using Google Sheets API)\n",
    "You can use Python to download Google Sheets programmatically:\n",
    "\n",
    "Requirements:\n",
    "Google Sheets API enabled in your Google Cloud Console.\n",
    "A service account key file in JSON format.\n",
    "\n",
    "- Enable Google Drive API at console.cloud.google.com\n",
    "- Enable Google Sheet API at console.cloud.google.com\n",
    "- Service account file create and download: .secret/relicdata_xxx.json\n",
    "- pip install google-api-python-client google-auth google-auth-oauthlib google-auth-httplib2"
   ]
  },
  {
   "cell_type": "code",
   "execution_count": 22,
   "id": "5314bd8b-4450-468c-99a6-8f8960dd2973",
   "metadata": {},
   "outputs": [],
   "source": [
    "from googleapiclient.discovery import build\n",
    "from googleapiclient.http import MediaIoBaseDownload\n",
    "from google.oauth2.service_account import Credentials\n",
    "import io\n",
    "\n",
    "# Set up Google Sheets API credentials\n",
    "SCOPES = ['https://www.googleapis.com/auth/drive']\n",
    "SERVICE_ACCOUNT_FILE = './.secret/relicdata-1601058d270a.json'\n",
    "\n",
    "creds = Credentials.from_service_account_file(SERVICE_ACCOUNT_FILE, scopes=SCOPES)\n",
    "drive_service = build('drive', 'v3', credentials=creds)\n"
   ]
  },
  {
   "cell_type": "code",
   "execution_count": 23,
   "id": "7360226d-f500-4d18-b1e8-7907da210258",
   "metadata": {},
   "outputs": [],
   "source": [
    "def download_google_sheet(file_id: str, file_path: str):\n",
    "    \"\"\"\n",
    "    download a google sheet file \n",
    "\n",
    "    file_id str: google sheet file id \n",
    "        ex) 1XXZ_phOcs_qlyoccw-3R_gCTdlXVT7HGz0_zcOHCmO4 in sheet url = 'https://docs.google.com/spreadsheets/d/1XXZ_phOcs_qlyoccw-3R_gCTdlXVT7HGz0_zcOHCmO4/...'\n",
    "    file_name str: local excel file name \n",
    "        ex) ./data/aaa.xlsx \n",
    "    \"\"\"\n",
    "    # Request to export the file as an Excel sheet\n",
    "    request = drive_service.files().export_media(fileId=file_id, mimeType='application/vnd.openxmlformats-officedocument.spreadsheetml.sheet')\n",
    "\n",
    "    # Download and save the file\n",
    "    print(f\"downloading file_id={file_id} to file_path={file_path}.\")\n",
    "    with open(file_path, 'wb') as file:\n",
    "        downloader = MediaIoBaseDownload(file, request)\n",
    "        done = False\n",
    "        while not done:\n",
    "            status, done = downloader.next_chunk()\n",
    "            print(f\"Download {int(status.progress() * 100)}%.\")\n",
    "\n",
    "    print(f\"downloaded file_id={file_id} to file_path={file_path}.\")\n",
    "    return "
   ]
  },
  {
   "cell_type": "code",
   "execution_count": 24,
   "id": "ce7230b1-4f7c-4aa1-8499-df1e17931a93",
   "metadata": {},
   "outputs": [],
   "source": [
    "fileinfo = [\n",
    "    { 'file_id': '1XXZ_phOcs_qlyoccw-3R_gCTdlXVT7HGz0_zcOHCmO4',\n",
    "      'file_path': './data/master (20.전통문양).xlsx'\n",
    "    },\n",
    "    # {\n",
    "    #   'file_id': '18O41SULcowLU-Ud7bgWC2QAenVg8FRoC1gzPXwt-QYs',\n",
    "    #   'file_path': './data/전통문양 메타데이터 통합관리_v2.1.xlsx'\n",
    "    # },\n",
    "    # {\n",
    "    #   'file_id': '1tl5IAW-v8O3hqc_GuYm6jczEpnH9mDGGsFCNYYxs8co',\n",
    "    #   'file_path': './data/캡션검수_1125.xlsx'\n",
    "    # },\n",
    "]\n",
    "    \n",
    "    "
   ]
  },
  {
   "cell_type": "code",
   "execution_count": 25,
   "id": "7794a6ad-1d25-44e4-98a9-a7bc13c28cba",
   "metadata": {},
   "outputs": [
    {
     "name": "stdout",
     "output_type": "stream",
     "text": [
      "downloading file_id=1XXZ_phOcs_qlyoccw-3R_gCTdlXVT7HGz0_zcOHCmO4 to file_path=./data/master (20.전통문양).xlsx.\n",
      "Download 100%.\n",
      "downloaded file_id=1XXZ_phOcs_qlyoccw-3R_gCTdlXVT7HGz0_zcOHCmO4 to file_path=./data/master (20.전통문양).xlsx.\n"
     ]
    }
   ],
   "source": [
    "# downlaod files \n",
    "for ainfo in fileinfo:\n",
    "    download_google_sheet(ainfo['file_id'], ainfo['file_path'])\n",
    "\n",
    "\n",
    "# downlaod failed for too large file. success at some time.\n",
    "# HttpError: <HttpError 403 when requesting https://www.googleapis.com/drive/v3/files/1tl5IAW-v8O3hqc_GuYm6jczEpnH9mDGGsFCNYYxs8co/export?mimeType=application%2Fvnd.openxmlformats-officedocument.spreadsheetml.sheet&alt=media returned \"This file is too large to be exported.\". Details: \"[{'message': 'This file is too large to be exported.', 'domain': 'global', 'reason': 'exportSizeLimitExceeded'}]\">"
   ]
  },
  {
   "cell_type": "code",
   "execution_count": 26,
   "id": "4468553f-bb50-4f30-b884-f6a44497ff9f",
   "metadata": {},
   "outputs": [
    {
     "name": "stdout",
     "output_type": "stream",
     "text": [
      "Done\n"
     ]
    }
   ],
   "source": [
    "print('Done')"
   ]
  }
 ],
 "metadata": {
  "kernelspec": {
   "display_name": "Python 3 (ipykernel)",
   "language": "python",
   "name": "python3"
  },
  "language_info": {
   "codemirror_mode": {
    "name": "ipython",
    "version": 3
   },
   "file_extension": ".py",
   "mimetype": "text/x-python",
   "name": "python",
   "nbconvert_exporter": "python",
   "pygments_lexer": "ipython3",
   "version": "3.12.8"
  }
 },
 "nbformat": 4,
 "nbformat_minor": 5
}
