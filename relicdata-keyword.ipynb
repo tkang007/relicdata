{
 "cells": [
  {
   "cell_type": "markdown",
   "id": "782acaeb-d738-4583-bbc2-1f6a2dca864d",
   "metadata": {},
   "source": [
    "# relic data, keyword extract notebook \n",
    "\n",
    "- 2024.12, tk"
   ]
  },
  {
   "cell_type": "code",
   "execution_count": 1,
   "id": "0cdde40a-7535-4fba-8461-116105a020cc",
   "metadata": {},
   "outputs": [],
   "source": [
    "import time, os\n",
    "from datetime import datetime\n",
    "import pandas as pd\n",
    "from collections import deque\n",
    "from openpyxl import Workbook, load_workbook\n",
    "from openpyxl.worksheet.worksheet import Worksheet\n",
    "from IPython.display import display\n",
    "from pprint import pprint\n",
    "import re"
   ]
  },
  {
   "cell_type": "code",
   "execution_count": 2,
   "id": "e8266c56-de86-4553-aa62-a01ded53666d",
   "metadata": {},
   "outputs": [],
   "source": [
    "start_time = time.time()"
   ]
  },
  {
   "cell_type": "markdown",
   "id": "f0f7c902-d2c2-4a98-abf6-87e252dbb946",
   "metadata": {},
   "source": [
    "## Enviroments"
   ]
  },
  {
   "cell_type": "code",
   "execution_count": 3,
   "id": "5683e96f-3695-4ffe-8cab-d8ed689bbe8e",
   "metadata": {},
   "outputs": [],
   "source": [
    "# file path - please update\n",
    "ifile = './keyword/용어입력.xlsx'"
   ]
  },
  {
   "cell_type": "markdown",
   "id": "a5752fb7-ec15-4c07-9bde-6e02ea7536c2",
   "metadata": {},
   "source": [
    "## Functions"
   ]
  },
  {
   "cell_type": "code",
   "execution_count": 4,
   "id": "b40de977-f842-4212-978d-c3488a66c936",
   "metadata": {},
   "outputs": [],
   "source": [
    "def filename_suffix()->str:\n",
    "    return f'{os.getpid()}-{datetime.now().strftime(\"%H%M%S\")}'"
   ]
  },
  {
   "cell_type": "code",
   "execution_count": 5,
   "id": "52509231-f94e-4d4f-82a2-b85d626b19db",
   "metadata": {},
   "outputs": [],
   "source": [
    "def nonempty_rows_count(sheet:Worksheet) -> int: \n",
    "    non_empty_rows = 0\n",
    "    for row in sheet.iter_rows():\n",
    "        if any(cell.value for cell in row):\n",
    "            non_empty_rows += 1\n",
    "    return non_empty_rows\n"
   ]
  },
  {
   "cell_type": "code",
   "execution_count": 6,
   "id": "38c0b9bd-e699-4c01-8e23-9fe4fc1dccc4",
   "metadata": {},
   "outputs": [],
   "source": [
    "def workbook_info(workbook: Workbook, head:int=5, tail:int=5, datadisplay:bool=False) -> None:\n",
    "    \"\"\"print workbook and its sheet information\"\"\"\n",
    "    \n",
    "    # Get and print basic workbook properties\n",
    "    print(\"\\nWorkbook Properties:\")\n",
    "    #print(f\"Title: {workbook.properties.title}\")\n",
    "    #print(f\"Subject: {workbook.properties.subject}\")\n",
    "    #print(f\"Created: {workbook.properties.created}\")\n",
    "    print(f\"Modified: {workbook.properties.modified}\")\n",
    "    print(f\"Number of sheets: {len(workbook.sheetnames)}\")\n",
    "    print(f\"Names of sheets: {workbook.sheetnames}\")\n",
    "        \n",
    "    # Get sheet properties\n",
    "    for sheet_name in workbook.sheetnames:\n",
    "        sheet = workbook[sheet_name]\n",
    "        print(f\"\\nSheet: {sheet.title}\")\n",
    "        #print(f\"  Dimensions: {sheet.dimensions}\")  # Example: 'A1:C10'\n",
    "        print(f\"  Columns: {sheet.max_column}\")\n",
    "        print(f\"  Rows: {sheet.max_row}\")\n",
    "        print(f\"  Nonempty rows: {nonempty_rows_count(sheet)}\")\n",
    "\n",
    "\n",
    "        if datadisplay:\n",
    "            # Print a sample of the first 5 rows to understand content\n",
    "            if head:\n",
    "                print(f\"  First {head} rows:\")\n",
    "                for row in sheet.iter_rows(min_row=1, max_row=head, values_only=True):\n",
    "                    print(f\"    {row}\")        \n",
    "            if tail:\n",
    "                print(f\"  Tail {head} rows:\")\n",
    "                for row in sheet.iter_rows(min_row=sheet.max_row-tail, values_only=True):\n",
    "                    print(f\"    {row}\")                        \n",
    "        "
   ]
  },
  {
   "cell_type": "code",
   "execution_count": 7,
   "id": "38e60dc0-a51f-4859-8e5f-fe49476bbd1f",
   "metadata": {},
   "outputs": [],
   "source": [
    "def dataframe_info(df:pd.DataFrame, head:int=5, tail:int=5, datadisplay:bool=False) -> None:\n",
    "    print(f'shape: {df.shape}')\n",
    "    print(f'columns:\\n{df.columns.tolist()}')\n",
    "    \n",
    "    if datadisplay:\n",
    "        if head:\n",
    "            print(f'head {head} rows:')\n",
    "            display(df.head(head))\n",
    "        if tail:\n",
    "            print(f'tail {tail} rows:')\n",
    "            display(df.tail(tail))"
   ]
  },
  {
   "cell_type": "code",
   "execution_count": 8,
   "id": "a732b42a-3553-4d24-bfb2-6a195c0c4ab4",
   "metadata": {},
   "outputs": [],
   "source": [
    "def replace_chars(text, old_chars, new_char):\n",
    "      \"\"\"\n",
    "      Replaces all occurrences of the characters in `old_chars` with `new_char` in the given text.\n",
    "    \n",
    "      Args:\n",
    "        text: The input string.\n",
    "        old_chars: A string containing the characters to be replaced.\n",
    "        new_char: The character to replace the old characters with.\n",
    "    \n",
    "      Returns:\n",
    "        The modified string with the replacements made.\n",
    "      \"\"\"\n",
    "      for char in old_chars:\n",
    "        text = text.replace(char, new_char)\n",
    "      return text"
   ]
  },
  {
   "cell_type": "markdown",
   "id": "8f03b8aa-63b5-4654-8557-256f49b61dcc",
   "metadata": {},
   "source": [
    "## Excel file information"
   ]
  },
  {
   "cell_type": "code",
   "execution_count": 9,
   "id": "fb7426d3-6092-474e-b20e-dd8479faf055",
   "metadata": {},
   "outputs": [
    {
     "name": "stdout",
     "output_type": "stream",
     "text": [
      "\n",
      "Workbook Properties:\n",
      "Modified: 2024-12-14 10:28:26\n",
      "Number of sheets: 1\n",
      "Names of sheets: ['Sheet1']\n",
      "\n",
      "Sheet: Sheet1\n",
      "  Columns: 3\n",
      "  Rows: 24353\n",
      "  Nonempty rows: 24353\n"
     ]
    }
   ],
   "source": [
    "iwb = load_workbook(ifile)\n",
    "workbook_info(iwb, datadisplay=False)"
   ]
  },
  {
   "cell_type": "markdown",
   "id": "72ff8241-95e9-42bf-b51f-6fa8609b0786",
   "metadata": {},
   "source": [
    "## Excel file read to dataframe"
   ]
  },
  {
   "cell_type": "code",
   "execution_count": 10,
   "id": "9f0e81af-2cc8-470a-81be-b657110017d2",
   "metadata": {},
   "outputs": [],
   "source": [
    "# intput file\n",
    "\n",
    "input_sheets_all = ['Sheet1'] \n",
    "input_sheets_exclude = [] \n",
    "\n",
    "assert set(input_sheets_all) == set(iwb.sheetnames), 'input_sheets is not match with input file sheet' \n",
    "\n",
    "input_columns = ['sheet','relic_id','6문단'] # 3\n",
    "input_skiprows = 1\n",
    "input_usecols = [0,1,2]\n",
    "\n",
    "input_df = pd.read_excel(ifile, sheet_name=input_sheets_all[0], skiprows=input_skiprows, usecols=input_usecols, header=None, names=input_columns, na_filter=False, dtype='object', engine='openpyxl',)    \n",
    "    \n",
    "input_all_rows = input_df.shape[0]\n"
   ]
  },
  {
   "cell_type": "code",
   "execution_count": 11,
   "id": "c7e04f1b-2d38-40f3-aa95-27ee71a0f368",
   "metadata": {},
   "outputs": [],
   "source": [
    "\n",
    "# Strip whitespace from string columns\n",
    "string_cols = input_df.select_dtypes(include='object').columns\n",
    "input_df[string_cols] = input_df[string_cols].apply(lambda x: x.str.strip())\n",
    "\n",
    "# remove invalid rows \n",
    "input_invalid_df = input_df[(input_df['6문단'].isnull()) | (input_df['6문단'].str.len() < 1)]\n",
    "input_valid_df = input_df[(input_df['6문단'].notnull()) & (input_df['6문단'].str.len() > 0)]\n",
    "\n",
    "# remove duplicate rows \n",
    "input_duplicate_df = input_valid_df[input_valid_df.duplicated(subset=['6문단'], keep='last')]\n",
    "input_valid_df = input_valid_df.drop_duplicates(subset=['6문단'], keep='last') \n",
    "\n",
    "input_invalid_rows = input_invalid_df.shape[0]\n",
    "input_duplicate_rows = input_duplicate_df.shape[0]\n",
    "input_valid_rows = input_valid_df.shape[0]\n",
    "\n",
    "idf = input_valid_df"
   ]
  },
  {
   "cell_type": "code",
   "execution_count": 12,
   "id": "46025f7d-032c-477d-9eeb-ffa67dbb6874",
   "metadata": {},
   "outputs": [
    {
     "name": "stdout",
     "output_type": "stream",
     "text": [
      "input rows all=24352, valid=22484, invalid=216, duplicate=1652\n"
     ]
    }
   ],
   "source": [
    "print(f'input rows all={input_all_rows}, valid={input_valid_rows}, invalid={input_invalid_rows}, duplicate={input_duplicate_rows}')"
   ]
  },
  {
   "cell_type": "code",
   "execution_count": 13,
   "id": "f5b01822-08be-4f9e-8f5a-bcc10b18c58e",
   "metadata": {},
   "outputs": [
    {
     "name": "stdout",
     "output_type": "stream",
     "text": [
      "shape: (22484, 3)\n",
      "columns:\n",
      "['sheet', 'relic_id', '6문단']\n"
     ]
    }
   ],
   "source": [
    "dataframe_info(idf, datadisplay=False)"
   ]
  },
  {
   "cell_type": "code",
   "execution_count": 14,
   "id": "178e1c93-efdb-4369-b184-f91b310054cf",
   "metadata": {},
   "outputs": [
    {
     "name": "stdout",
     "output_type": "stream",
     "text": [
      "shape: (216, 3)\n",
      "columns:\n",
      "['sheet', 'relic_id', '6문단']\n",
      "head 5 rows:\n"
     ]
    },
    {
     "data": {
      "text/html": [
       "<div>\n",
       "<style scoped>\n",
       "    .dataframe tbody tr th:only-of-type {\n",
       "        vertical-align: middle;\n",
       "    }\n",
       "\n",
       "    .dataframe tbody tr th {\n",
       "        vertical-align: top;\n",
       "    }\n",
       "\n",
       "    .dataframe thead th {\n",
       "        text-align: right;\n",
       "    }\n",
       "</style>\n",
       "<table border=\"1\" class=\"dataframe\">\n",
       "  <thead>\n",
       "    <tr style=\"text-align: right;\">\n",
       "      <th></th>\n",
       "      <th>sheet</th>\n",
       "      <th>relic_id</th>\n",
       "      <th>6문단</th>\n",
       "    </tr>\n",
       "  </thead>\n",
       "  <tbody>\n",
       "    <tr>\n",
       "      <th>2090</th>\n",
       "      <td>캡션검수1126(수정)</td>\n",
       "      <td>PS0100200100104028200000_A1</td>\n",
       "      <td></td>\n",
       "    </tr>\n",
       "    <tr>\n",
       "      <th>2091</th>\n",
       "      <td>캡션검수1126(수정)</td>\n",
       "      <td>PS0100200100104028400000_A1</td>\n",
       "      <td></td>\n",
       "    </tr>\n",
       "    <tr>\n",
       "      <th>2092</th>\n",
       "      <td>캡션검수1126(수정)</td>\n",
       "      <td>PS0100200100104028900000_A1</td>\n",
       "      <td></td>\n",
       "    </tr>\n",
       "    <tr>\n",
       "      <th>2093</th>\n",
       "      <td>캡션검수1126(수정)</td>\n",
       "      <td>PS0100200100104029100000_A1</td>\n",
       "      <td></td>\n",
       "    </tr>\n",
       "    <tr>\n",
       "      <th>2094</th>\n",
       "      <td>캡션검수1126(수정)</td>\n",
       "      <td>PS0100200100104029400000_A1</td>\n",
       "      <td></td>\n",
       "    </tr>\n",
       "  </tbody>\n",
       "</table>\n",
       "</div>"
      ],
      "text/plain": [
       "             sheet                     relic_id 6문단\n",
       "2090  캡션검수1126(수정)  PS0100200100104028200000_A1    \n",
       "2091  캡션검수1126(수정)  PS0100200100104028400000_A1    \n",
       "2092  캡션검수1126(수정)  PS0100200100104028900000_A1    \n",
       "2093  캡션검수1126(수정)  PS0100200100104029100000_A1    \n",
       "2094  캡션검수1126(수정)  PS0100200100104029400000_A1    "
      ]
     },
     "metadata": {},
     "output_type": "display_data"
    },
    {
     "name": "stdout",
     "output_type": "stream",
     "text": [
      "tail 5 rows:\n"
     ]
    },
    {
     "data": {
      "text/html": [
       "<div>\n",
       "<style scoped>\n",
       "    .dataframe tbody tr th:only-of-type {\n",
       "        vertical-align: middle;\n",
       "    }\n",
       "\n",
       "    .dataframe tbody tr th {\n",
       "        vertical-align: top;\n",
       "    }\n",
       "\n",
       "    .dataframe thead th {\n",
       "        text-align: right;\n",
       "    }\n",
       "</style>\n",
       "<table border=\"1\" class=\"dataframe\">\n",
       "  <thead>\n",
       "    <tr style=\"text-align: right;\">\n",
       "      <th></th>\n",
       "      <th>sheet</th>\n",
       "      <th>relic_id</th>\n",
       "      <th>6문단</th>\n",
       "    </tr>\n",
       "  </thead>\n",
       "  <tbody>\n",
       "    <tr>\n",
       "      <th>2301</th>\n",
       "      <td>캡션검수1126(수정)</td>\n",
       "      <td>PS0100201100102067800000_A1</td>\n",
       "      <td></td>\n",
       "    </tr>\n",
       "    <tr>\n",
       "      <th>2302</th>\n",
       "      <td>캡션검수1126(수정)</td>\n",
       "      <td>PS0100201100102078700000_A1</td>\n",
       "      <td></td>\n",
       "    </tr>\n",
       "    <tr>\n",
       "      <th>2303</th>\n",
       "      <td>캡션검수1126(수정)</td>\n",
       "      <td>PS0100201100102079600000_A1</td>\n",
       "      <td></td>\n",
       "    </tr>\n",
       "    <tr>\n",
       "      <th>2304</th>\n",
       "      <td>캡션검수1126(수정)</td>\n",
       "      <td>PS0100201100102081100000_A1</td>\n",
       "      <td></td>\n",
       "    </tr>\n",
       "    <tr>\n",
       "      <th>2305</th>\n",
       "      <td>캡션검수1126(수정)</td>\n",
       "      <td>PS0100201100102081400000_A1</td>\n",
       "      <td></td>\n",
       "    </tr>\n",
       "  </tbody>\n",
       "</table>\n",
       "</div>"
      ],
      "text/plain": [
       "             sheet                     relic_id 6문단\n",
       "2301  캡션검수1126(수정)  PS0100201100102067800000_A1    \n",
       "2302  캡션검수1126(수정)  PS0100201100102078700000_A1    \n",
       "2303  캡션검수1126(수정)  PS0100201100102079600000_A1    \n",
       "2304  캡션검수1126(수정)  PS0100201100102081100000_A1    \n",
       "2305  캡션검수1126(수정)  PS0100201100102081400000_A1    "
      ]
     },
     "metadata": {},
     "output_type": "display_data"
    }
   ],
   "source": [
    "dataframe_info(input_invalid_df, datadisplay=True)"
   ]
  },
  {
   "cell_type": "code",
   "execution_count": 15,
   "id": "30a2dfaf-f36b-4db1-9b4c-c587b5b84c69",
   "metadata": {},
   "outputs": [
    {
     "name": "stdout",
     "output_type": "stream",
     "text": [
      "shape: (1652, 3)\n",
      "columns:\n",
      "['sheet', 'relic_id', '6문단']\n",
      "head 5 rows:\n"
     ]
    },
    {
     "data": {
      "text/html": [
       "<div>\n",
       "<style scoped>\n",
       "    .dataframe tbody tr th:only-of-type {\n",
       "        vertical-align: middle;\n",
       "    }\n",
       "\n",
       "    .dataframe tbody tr th {\n",
       "        vertical-align: top;\n",
       "    }\n",
       "\n",
       "    .dataframe thead th {\n",
       "        text-align: right;\n",
       "    }\n",
       "</style>\n",
       "<table border=\"1\" class=\"dataframe\">\n",
       "  <thead>\n",
       "    <tr style=\"text-align: right;\">\n",
       "      <th></th>\n",
       "      <th>sheet</th>\n",
       "      <th>relic_id</th>\n",
       "      <th>6문단</th>\n",
       "    </tr>\n",
       "  </thead>\n",
       "  <tbody>\n",
       "    <tr>\n",
       "      <th>54</th>\n",
       "      <td>캡션검수 1125</td>\n",
       "      <td>PS0100200100103674300000_A1</td>\n",
       "      <td>'한국전통문화유산', '한국전통문양', '상평통보', '엽전', '문자문', '문자...</td>\n",
       "    </tr>\n",
       "    <tr>\n",
       "      <th>77</th>\n",
       "      <td>캡션검수 1125</td>\n",
       "      <td>PS0100200100103676700000_A1</td>\n",
       "      <td>'한국전통문화유산', '한국전통문양', '상평통보', '엽전', '문자문', '문자...</td>\n",
       "    </tr>\n",
       "    <tr>\n",
       "      <th>206</th>\n",
       "      <td>캡션검수 1125</td>\n",
       "      <td>2010-0833-0000023_A1</td>\n",
       "      <td>한국전통문화유산', '한국전통문양', '당초문암막새', '암막새', '식물문', '...</td>\n",
       "    </tr>\n",
       "    <tr>\n",
       "      <th>208</th>\n",
       "      <td>캡션검수 1125</td>\n",
       "      <td>2010-0876-0000055_A1</td>\n",
       "      <td>한국전통문화유산', '한국전통문양', '연화문수막새', '수막새', '식물문', '...</td>\n",
       "    </tr>\n",
       "    <tr>\n",
       "      <th>210</th>\n",
       "      <td>캡션검수 1125</td>\n",
       "      <td>2010-0960-0000002_A1</td>\n",
       "      <td>한국전통문화유산', '한국전통문양', '연화문수막새', '식물문', '연꽃문', '...</td>\n",
       "    </tr>\n",
       "  </tbody>\n",
       "</table>\n",
       "</div>"
      ],
      "text/plain": [
       "         sheet                     relic_id  \\\n",
       "54   캡션검수 1125  PS0100200100103674300000_A1   \n",
       "77   캡션검수 1125  PS0100200100103676700000_A1   \n",
       "206  캡션검수 1125         2010-0833-0000023_A1   \n",
       "208  캡션검수 1125         2010-0876-0000055_A1   \n",
       "210  캡션검수 1125         2010-0960-0000002_A1   \n",
       "\n",
       "                                                   6문단  \n",
       "54   '한국전통문화유산', '한국전통문양', '상평통보', '엽전', '문자문', '문자...  \n",
       "77   '한국전통문화유산', '한국전통문양', '상평통보', '엽전', '문자문', '문자...  \n",
       "206  한국전통문화유산', '한국전통문양', '당초문암막새', '암막새', '식물문', '...  \n",
       "208  한국전통문화유산', '한국전통문양', '연화문수막새', '수막새', '식물문', '...  \n",
       "210  한국전통문화유산', '한국전통문양', '연화문수막새', '식물문', '연꽃문', '...  "
      ]
     },
     "metadata": {},
     "output_type": "display_data"
    },
    {
     "name": "stdout",
     "output_type": "stream",
     "text": [
      "tail 5 rows:\n"
     ]
    },
    {
     "data": {
      "text/html": [
       "<div>\n",
       "<style scoped>\n",
       "    .dataframe tbody tr th:only-of-type {\n",
       "        vertical-align: middle;\n",
       "    }\n",
       "\n",
       "    .dataframe tbody tr th {\n",
       "        vertical-align: top;\n",
       "    }\n",
       "\n",
       "    .dataframe thead th {\n",
       "        text-align: right;\n",
       "    }\n",
       "</style>\n",
       "<table border=\"1\" class=\"dataframe\">\n",
       "  <thead>\n",
       "    <tr style=\"text-align: right;\">\n",
       "      <th></th>\n",
       "      <th>sheet</th>\n",
       "      <th>relic_id</th>\n",
       "      <th>6문단</th>\n",
       "    </tr>\n",
       "  </thead>\n",
       "  <tbody>\n",
       "    <tr>\n",
       "      <th>23559</th>\n",
       "      <td>1214-2</td>\n",
       "      <td>PS0100100201100105100000_A1</td>\n",
       "      <td>한국전통문화유산', '한국전통문양', '연꽃무늬 수막새', '복합문', '연꽃문',...</td>\n",
       "    </tr>\n",
       "    <tr>\n",
       "      <th>23576</th>\n",
       "      <td>1214-2</td>\n",
       "      <td>PS0100100201100106500000_A2</td>\n",
       "      <td>한국전통문화유산, 한국전통문양, 연꽃무늬 수막새, 수막새, 식물문, 순수함, 고귀함</td>\n",
       "    </tr>\n",
       "    <tr>\n",
       "      <th>23731</th>\n",
       "      <td>1214-2</td>\n",
       "      <td>PS0100100102001428700000_A1</td>\n",
       "      <td>한국전통문화유산, 한국전통문양, 국화문 장경병, 식물문, 생활소품, 생명력, 조화</td>\n",
       "    </tr>\n",
       "    <tr>\n",
       "      <th>24089</th>\n",
       "      <td>1214-2</td>\n",
       "      <td>PS0100100102001638800000_A1</td>\n",
       "      <td>한국전통문화유산, 한국전통문양, 백자철화대나무무늬항아리, 식물문, 생활소품, 자연, 조화</td>\n",
       "    </tr>\n",
       "    <tr>\n",
       "      <th>24294</th>\n",
       "      <td>1214-2</td>\n",
       "      <td>PS0100100102002327200000_A2</td>\n",
       "      <td>한국전통문화유산, 한국전통문양, 연화문 수막새, 식물문, 청정, 불멸</td>\n",
       "    </tr>\n",
       "  </tbody>\n",
       "</table>\n",
       "</div>"
      ],
      "text/plain": [
       "        sheet                     relic_id  \\\n",
       "23559  1214-2  PS0100100201100105100000_A1   \n",
       "23576  1214-2  PS0100100201100106500000_A2   \n",
       "23731  1214-2  PS0100100102001428700000_A1   \n",
       "24089  1214-2  PS0100100102001638800000_A1   \n",
       "24294  1214-2  PS0100100102002327200000_A2   \n",
       "\n",
       "                                                     6문단  \n",
       "23559  한국전통문화유산', '한국전통문양', '연꽃무늬 수막새', '복합문', '연꽃문',...  \n",
       "23576     한국전통문화유산, 한국전통문양, 연꽃무늬 수막새, 수막새, 식물문, 순수함, 고귀함  \n",
       "23731      한국전통문화유산, 한국전통문양, 국화문 장경병, 식물문, 생활소품, 생명력, 조화  \n",
       "24089  한국전통문화유산, 한국전통문양, 백자철화대나무무늬항아리, 식물문, 생활소품, 자연, 조화  \n",
       "24294             한국전통문화유산, 한국전통문양, 연화문 수막새, 식물문, 청정, 불멸  "
      ]
     },
     "metadata": {},
     "output_type": "display_data"
    }
   ],
   "source": [
    "dataframe_info(input_duplicate_df, datadisplay=True)"
   ]
  },
  {
   "cell_type": "code",
   "execution_count": 16,
   "id": "e55b68dc-0629-40ed-989b-47b2cb095e7f",
   "metadata": {},
   "outputs": [],
   "source": [
    "# debug saving\n",
    "idf.to_excel(f'./keyword/keyinput-valid-{filename_suffix()}.xlsx', index=False)\n",
    "if input_invalid_rows:\n",
    "    input_invalid_df.to_excel(f'./keyword/keyinput-invalid-{filename_suffix()}.xlsx', index=False)\n",
    "if input_duplicate_rows:    \n",
    "    input_duplicate_df.to_excel(f'./keyword/keyinput-duplicate-{filename_suffix()}.xlsx', index=False)"
   ]
  },
  {
   "cell_type": "markdown",
   "id": "47eadbd6-4a5f-4438-8044-d0e01e5ec46b",
   "metadata": {},
   "source": [
    "## Write to output file"
   ]
  },
  {
   "cell_type": "code",
   "execution_count": 18,
   "id": "69e7f802-4bbc-4926-9f1e-5cfd752223ea",
   "metadata": {},
   "outputs": [],
   "source": [
    "keyset = set()\n",
    "lookup = list()\n",
    "\n",
    "for row in idf.itertuples(index=False): \n",
    "    keystmt = row[2]\n",
    "    words = keystmt.split(',')\n",
    "    \n",
    "    for i,w in enumerate(words,start=1):\n",
    "        w = replace_chars(w, \"\\'\\\"\\‘\\’\", '')\n",
    "        w = w.strip()\n",
    "        if w.lower() == 'nan': \n",
    "            continue\n",
    "        if len(w) < 1:\n",
    "            continue\n",
    "            \n",
    "        keypos = (w,i)\n",
    "        if not keypos in keyset:\n",
    "            keyset.add(keypos)     \n",
    "        lookup.append((w, i, row[0],row[1]))\n",
    "\n",
    "keylist= sorted(keyset)         \n",
    "keys = [keypos[0] for keypos in keylist]\n",
    "posi = [keypos[1] for keypos in keylist]\n",
    "\n",
    "odf = pd.DataFrame({'기존용어': keys, '용어순번': posi}) \n",
    "odf['한글용어'] = None\n",
    "odf['영문용어'] = None\n",
    "odf = odf.sort_values(by=['기존용어', '용어순번']) \n",
    "\n",
    "ldf = pd.DataFrame(lookup, columns=['기존용어', '용어순번', 'sheet', 'relic_id']) \n",
    "ldf = ldf.sort_values(by=['기존용어', '용어순번',  'sheet', 'relic_id']) \n"
   ]
  },
  {
   "cell_type": "code",
   "execution_count": 19,
   "id": "a6a93954-77b6-4c86-aff3-f95321c8476f",
   "metadata": {},
   "outputs": [
    {
     "name": "stdout",
     "output_type": "stream",
     "text": [
      "shape: (12888, 4)\n",
      "columns:\n",
      "['기존용어', '용어순번', '한글용어', '영문용어']\n",
      "head 5 rows:\n"
     ]
    },
    {
     "data": {
      "text/html": [
       "<div>\n",
       "<style scoped>\n",
       "    .dataframe tbody tr th:only-of-type {\n",
       "        vertical-align: middle;\n",
       "    }\n",
       "\n",
       "    .dataframe tbody tr th {\n",
       "        vertical-align: top;\n",
       "    }\n",
       "\n",
       "    .dataframe thead th {\n",
       "        text-align: right;\n",
       "    }\n",
       "</style>\n",
       "<table border=\"1\" class=\"dataframe\">\n",
       "  <thead>\n",
       "    <tr style=\"text-align: right;\">\n",
       "      <th></th>\n",
       "      <th>기존용어</th>\n",
       "      <th>용어순번</th>\n",
       "      <th>한글용어</th>\n",
       "      <th>영문용어</th>\n",
       "    </tr>\n",
       "  </thead>\n",
       "  <tbody>\n",
       "    <tr>\n",
       "      <th>0</th>\n",
       "      <td>12각반</td>\n",
       "      <td>3</td>\n",
       "      <td>None</td>\n",
       "      <td>None</td>\n",
       "    </tr>\n",
       "    <tr>\n",
       "      <th>1</th>\n",
       "      <td>1900</td>\n",
       "      <td>3</td>\n",
       "      <td>None</td>\n",
       "      <td>None</td>\n",
       "    </tr>\n",
       "    <tr>\n",
       "      <th>2</th>\n",
       "      <td>1903년 발행한 독수리 보통우표</td>\n",
       "      <td>3</td>\n",
       "      <td>None</td>\n",
       "      <td>None</td>\n",
       "    </tr>\n",
       "    <tr>\n",
       "      <th>3</th>\n",
       "      <td>1933년도 농구 경기 규칙</td>\n",
       "      <td>3</td>\n",
       "      <td>None</td>\n",
       "      <td>None</td>\n",
       "    </tr>\n",
       "    <tr>\n",
       "      <th>4</th>\n",
       "      <td>1전 청동화</td>\n",
       "      <td>3</td>\n",
       "      <td>None</td>\n",
       "      <td>None</td>\n",
       "    </tr>\n",
       "  </tbody>\n",
       "</table>\n",
       "</div>"
      ],
      "text/plain": [
       "                 기존용어  용어순번  한글용어  영문용어\n",
       "0                12각반     3  None  None\n",
       "1                1900     3  None  None\n",
       "2  1903년 발행한 독수리 보통우표     3  None  None\n",
       "3     1933년도 농구 경기 규칙     3  None  None\n",
       "4              1전 청동화     3  None  None"
      ]
     },
     "metadata": {},
     "output_type": "display_data"
    },
    {
     "name": "stdout",
     "output_type": "stream",
     "text": [
      "tail 5 rows:\n"
     ]
    },
    {
     "data": {
      "text/html": [
       "<div>\n",
       "<style scoped>\n",
       "    .dataframe tbody tr th:only-of-type {\n",
       "        vertical-align: middle;\n",
       "    }\n",
       "\n",
       "    .dataframe tbody tr th {\n",
       "        vertical-align: top;\n",
       "    }\n",
       "\n",
       "    .dataframe thead th {\n",
       "        text-align: right;\n",
       "    }\n",
       "</style>\n",
       "<table border=\"1\" class=\"dataframe\">\n",
       "  <thead>\n",
       "    <tr style=\"text-align: right;\">\n",
       "      <th></th>\n",
       "      <th>기존용어</th>\n",
       "      <th>용어순번</th>\n",
       "      <th>한글용어</th>\n",
       "      <th>영문용어</th>\n",
       "    </tr>\n",
       "  </thead>\n",
       "  <tbody>\n",
       "    <tr>\n",
       "      <th>12883</th>\n",
       "      <td>힘</td>\n",
       "      <td>10</td>\n",
       "      <td>None</td>\n",
       "      <td>None</td>\n",
       "    </tr>\n",
       "    <tr>\n",
       "      <th>12884</th>\n",
       "      <td>힘</td>\n",
       "      <td>11</td>\n",
       "      <td>None</td>\n",
       "      <td>None</td>\n",
       "    </tr>\n",
       "    <tr>\n",
       "      <th>12885</th>\n",
       "      <td>힘과 권위</td>\n",
       "      <td>9</td>\n",
       "      <td>None</td>\n",
       "      <td>None</td>\n",
       "    </tr>\n",
       "    <tr>\n",
       "      <th>12886</th>\n",
       "      <td>힘과 보호</td>\n",
       "      <td>7</td>\n",
       "      <td>None</td>\n",
       "      <td>None</td>\n",
       "    </tr>\n",
       "    <tr>\n",
       "      <th>12887</th>\n",
       "      <td>蓮花文 수막새</td>\n",
       "      <td>3</td>\n",
       "      <td>None</td>\n",
       "      <td>None</td>\n",
       "    </tr>\n",
       "  </tbody>\n",
       "</table>\n",
       "</div>"
      ],
      "text/plain": [
       "          기존용어  용어순번  한글용어  영문용어\n",
       "12883        힘    10  None  None\n",
       "12884        힘    11  None  None\n",
       "12885    힘과 권위     9  None  None\n",
       "12886    힘과 보호     7  None  None\n",
       "12887  蓮花文 수막새     3  None  None"
      ]
     },
     "metadata": {},
     "output_type": "display_data"
    }
   ],
   "source": [
    "dataframe_info(odf, datadisplay=True)"
   ]
  },
  {
   "cell_type": "code",
   "execution_count": 20,
   "id": "23fe70e3-b3a5-4487-af9c-4c4d396e55ae",
   "metadata": {},
   "outputs": [
    {
     "name": "stdout",
     "output_type": "stream",
     "text": [
      "shape: (168236, 4)\n",
      "columns:\n",
      "['기존용어', '용어순번', 'sheet', 'relic_id']\n",
      "head 5 rows:\n"
     ]
    },
    {
     "data": {
      "text/html": [
       "<div>\n",
       "<style scoped>\n",
       "    .dataframe tbody tr th:only-of-type {\n",
       "        vertical-align: middle;\n",
       "    }\n",
       "\n",
       "    .dataframe tbody tr th {\n",
       "        vertical-align: top;\n",
       "    }\n",
       "\n",
       "    .dataframe thead th {\n",
       "        text-align: right;\n",
       "    }\n",
       "</style>\n",
       "<table border=\"1\" class=\"dataframe\">\n",
       "  <thead>\n",
       "    <tr style=\"text-align: right;\">\n",
       "      <th></th>\n",
       "      <th>기존용어</th>\n",
       "      <th>용어순번</th>\n",
       "      <th>sheet</th>\n",
       "      <th>relic_id</th>\n",
       "    </tr>\n",
       "  </thead>\n",
       "  <tbody>\n",
       "    <tr>\n",
       "      <th>23283</th>\n",
       "      <td>12각반</td>\n",
       "      <td>3</td>\n",
       "      <td>캡션검수1126(수정)</td>\n",
       "      <td>PS0100200100102343400000_A1</td>\n",
       "    </tr>\n",
       "    <tr>\n",
       "      <th>27037</th>\n",
       "      <td>1900</td>\n",
       "      <td>3</td>\n",
       "      <td>캡션검수1201</td>\n",
       "      <td>PS0100202500800808800000_A1</td>\n",
       "    </tr>\n",
       "    <tr>\n",
       "      <th>27648</th>\n",
       "      <td>1903년 발행한 독수리 보통우표</td>\n",
       "      <td>3</td>\n",
       "      <td>캡션검수1201</td>\n",
       "      <td>PS0100203400600627200000_A1</td>\n",
       "    </tr>\n",
       "    <tr>\n",
       "      <th>27198</th>\n",
       "      <td>1933년도 농구 경기 규칙</td>\n",
       "      <td>3</td>\n",
       "      <td>캡션검수1201</td>\n",
       "      <td>PS0100202500800965400000_A1</td>\n",
       "    </tr>\n",
       "    <tr>\n",
       "      <th>12602</th>\n",
       "      <td>1전 청동화</td>\n",
       "      <td>3</td>\n",
       "      <td>캡션검수1126(수정)</td>\n",
       "      <td>PS0100100101101786500000_A1</td>\n",
       "    </tr>\n",
       "  </tbody>\n",
       "</table>\n",
       "</div>"
      ],
      "text/plain": [
       "                     기존용어  용어순번         sheet                     relic_id\n",
       "23283                12각반     3  캡션검수1126(수정)  PS0100200100102343400000_A1\n",
       "27037                1900     3      캡션검수1201  PS0100202500800808800000_A1\n",
       "27648  1903년 발행한 독수리 보통우표     3      캡션검수1201  PS0100203400600627200000_A1\n",
       "27198     1933년도 농구 경기 규칙     3      캡션검수1201  PS0100202500800965400000_A1\n",
       "12602              1전 청동화     3  캡션검수1126(수정)  PS0100100101101786500000_A1"
      ]
     },
     "metadata": {},
     "output_type": "display_data"
    },
    {
     "name": "stdout",
     "output_type": "stream",
     "text": [
      "tail 5 rows:\n"
     ]
    },
    {
     "data": {
      "text/html": [
       "<div>\n",
       "<style scoped>\n",
       "    .dataframe tbody tr th:only-of-type {\n",
       "        vertical-align: middle;\n",
       "    }\n",
       "\n",
       "    .dataframe tbody tr th {\n",
       "        vertical-align: top;\n",
       "    }\n",
       "\n",
       "    .dataframe thead th {\n",
       "        text-align: right;\n",
       "    }\n",
       "</style>\n",
       "<table border=\"1\" class=\"dataframe\">\n",
       "  <thead>\n",
       "    <tr style=\"text-align: right;\">\n",
       "      <th></th>\n",
       "      <th>기존용어</th>\n",
       "      <th>용어순번</th>\n",
       "      <th>sheet</th>\n",
       "      <th>relic_id</th>\n",
       "    </tr>\n",
       "  </thead>\n",
       "  <tbody>\n",
       "    <tr>\n",
       "      <th>103851</th>\n",
       "      <td>힘</td>\n",
       "      <td>10</td>\n",
       "      <td>캡션검수1212(1,4문단)</td>\n",
       "      <td>PS0100100100500286300000_A1</td>\n",
       "    </tr>\n",
       "    <tr>\n",
       "      <th>53360</th>\n",
       "      <td>힘</td>\n",
       "      <td>11</td>\n",
       "      <td>캡션검수1206</td>\n",
       "      <td>7825_A1</td>\n",
       "    </tr>\n",
       "    <tr>\n",
       "      <th>111376</th>\n",
       "      <td>힘과 권위</td>\n",
       "      <td>9</td>\n",
       "      <td>캡션검수1212(1,4문단)</td>\n",
       "      <td>PS0100100102002941000000_A1</td>\n",
       "    </tr>\n",
       "    <tr>\n",
       "      <th>104240</th>\n",
       "      <td>힘과 보호</td>\n",
       "      <td>7</td>\n",
       "      <td>캡션검수1212(1,4문단)</td>\n",
       "      <td>PS0100100100500623500000_A3</td>\n",
       "    </tr>\n",
       "    <tr>\n",
       "      <th>8993</th>\n",
       "      <td>蓮花文 수막새</td>\n",
       "      <td>3</td>\n",
       "      <td>캡션검수 1125</td>\n",
       "      <td>PS0100101000101400100000_A1</td>\n",
       "    </tr>\n",
       "  </tbody>\n",
       "</table>\n",
       "</div>"
      ],
      "text/plain": [
       "           기존용어  용어순번            sheet                     relic_id\n",
       "103851        힘    10  캡션검수1212(1,4문단)  PS0100100100500286300000_A1\n",
       "53360         힘    11         캡션검수1206                      7825_A1\n",
       "111376    힘과 권위     9  캡션검수1212(1,4문단)  PS0100100102002941000000_A1\n",
       "104240    힘과 보호     7  캡션검수1212(1,4문단)  PS0100100100500623500000_A3\n",
       "8993    蓮花文 수막새     3        캡션검수 1125  PS0100101000101400100000_A1"
      ]
     },
     "metadata": {},
     "output_type": "display_data"
    }
   ],
   "source": [
    "dataframe_info(ldf, datadisplay=True)"
   ]
  },
  {
   "cell_type": "code",
   "execution_count": 21,
   "id": "159fcad9-a404-4794-90b8-02311750bb2e",
   "metadata": {},
   "outputs": [],
   "source": [
    "odf = odf.reset_index(drop=True) \n",
    "odf.index += 1 \n",
    "odf.to_excel(f'./keyword/용어작업-{filename_suffix()}.xlsx', index=True, index_label='식별번호', sheet_name='용어작업')"
   ]
  },
  {
   "cell_type": "code",
   "execution_count": 22,
   "id": "2ca8f33c-7b1d-4fed-9a84-75db7b754c73",
   "metadata": {},
   "outputs": [],
   "source": [
    "ldf = ldf.reset_index(drop=True) \n",
    "ldf.index += 1 \n",
    "ldf.to_excel(f'./keyword/용어사용-{filename_suffix()}.xlsx', index=True, index_label='식별번호', sheet_name='용어사용')"
   ]
  },
  {
   "cell_type": "code",
   "execution_count": 23,
   "id": "7fe38f94-66ac-42bc-84f3-c65eae4e74ed",
   "metadata": {},
   "outputs": [
    {
     "name": "stdout",
     "output_type": "stream",
     "text": [
      "Done, eplapsed seconds = 82.73450374603271\n"
     ]
    }
   ],
   "source": [
    "end_time = time.time()\n",
    "print(f\"Done, eplapsed seconds = {end_time - start_time}\")\n"
   ]
  },
  {
   "cell_type": "code",
   "execution_count": null,
   "id": "619e548c-591b-4e23-ac12-1310fa639552",
   "metadata": {},
   "outputs": [],
   "source": []
  }
 ],
 "metadata": {
  "kernelspec": {
   "display_name": "Python 3 (ipykernel)",
   "language": "python",
   "name": "python3"
  },
  "language_info": {
   "codemirror_mode": {
    "name": "ipython",
    "version": 3
   },
   "file_extension": ".py",
   "mimetype": "text/x-python",
   "name": "python",
   "nbconvert_exporter": "python",
   "pygments_lexer": "ipython3",
   "version": "3.12.8"
  }
 },
 "nbformat": 4,
 "nbformat_minor": 5
}
